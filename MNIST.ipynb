{
 "cells": [
  {
   "cell_type": "markdown",
   "metadata": {},
   "source": [
    "# Recognition of Hand-Written Digits"
   ]
  },
  {
   "cell_type": "markdown",
   "metadata": {},
   "source": [
    "## Fetch the data (MNIST Dataset)"
   ]
  },
  {
   "cell_type": "code",
   "execution_count": 1,
   "metadata": {},
   "outputs": [
    {
     "name": "stdout",
     "output_type": "stream",
     "text": [
      "{'DESCR': 'mldata.org dataset: mnist-original', 'COL_NAMES': ['label', 'data'], 'target': array([0., 0., 0., ..., 9., 9., 9.]), 'data': array([[0, 0, 0, ..., 0, 0, 0],\n",
      "       [0, 0, 0, ..., 0, 0, 0],\n",
      "       [0, 0, 0, ..., 0, 0, 0],\n",
      "       ...,\n",
      "       [0, 0, 0, ..., 0, 0, 0],\n",
      "       [0, 0, 0, ..., 0, 0, 0],\n",
      "       [0, 0, 0, ..., 0, 0, 0]], dtype=uint8)}\n"
     ]
    }
   ],
   "source": [
    "from sklearn.datasets import fetch_mldata\n",
    "mnist = fetch_mldata('mnist-original')\n",
    "print(mnist)"
   ]
  },
  {
   "cell_type": "code",
   "execution_count": 2,
   "metadata": {},
   "outputs": [
    {
     "name": "stdout",
     "output_type": "stream",
     "text": [
      "(70000, 784)\n",
      "(70000,)\n"
     ]
    }
   ],
   "source": [
    "X,y = mnist['data'],mnist['target']\n",
    "\n",
    "print(X.shape,y.shape,sep='\\n')"
   ]
  },
  {
   "cell_type": "markdown",
   "metadata": {},
   "source": [
    "Each instance has 784 features i.e, each image is of dimensions 28 X 28 pixels.<br>\n",
    "Let's consider a sample from the dataset."
   ]
  },
  {
   "cell_type": "code",
   "execution_count": 50,
   "metadata": {},
   "outputs": [
    {
     "data": {
      "image/png": "[encoded data removed]",
      "text/plain": [
       "<Figure size 432x288 with 1 Axes>"
      ]
     },
     "metadata": {},
     "output_type": "display_data"
    },
    {
     "name": "stdout",
     "output_type": "stream",
     "text": [
      "0.0\n"
     ]
    }
   ],
   "source": [
    "import matplotlib\n",
    "import matplotlib.pyplot as plt\n",
    "\n",
    "eg_digit = X[2750]\n",
    "eg_digit_image = eg_digit.reshape(28,28)\n",
    "plt.imshow(eg_digit_image,cmap=matplotlib.cm.binary)\n",
    "plt.show()                                               # Print the digit\n",
    "\n",
    "print(y[2750])                                           # Corresponding target value"
   ]
  },
  {
   "cell_type": "markdown",
   "metadata": {},
   "source": [
    "We need to seperate the train set and the test set. MNIST dataset is already divided into train set(first 60,000 images) and test set(last 10,000 images)."
   ]
  },
  {
   "cell_type": "code",
   "execution_count": 4,
   "metadata": {},
   "outputs": [],
   "source": [
    "X_train, X_test, y_train, y_test = X[:60000], X[60000:], y[:60000], y[60000:]"
   ]
  },
  {
   "cell_type": "code",
   "execution_count": 5,
   "metadata": {},
   "outputs": [
    {
     "name": "stdout",
     "output_type": "stream",
     "text": [
      "60000\n",
      "60000\n"
     ]
    }
   ],
   "source": [
    "print(len(X_train))\n",
    "print(len(y_train))"
   ]
  },
  {
   "cell_type": "markdown",
   "metadata": {},
   "source": [
    "We first need to shuffle the training set as some algorithms can be sensitive to the order of training set instances."
   ]
  },
  {
   "cell_type": "code",
   "execution_count": 6,
   "metadata": {},
   "outputs": [
    {
     "name": "stdout",
     "output_type": "stream",
     "text": [
      "[50178  7419 55756 ...  6094  7343  6502]\n"
     ]
    }
   ],
   "source": [
    "import numpy as np\n",
    "\n",
    "shuffle_index = np.random.permutation(60000)\n",
    "X_train, y_train = X_train[shuffle_index], y_train[shuffle_index]\n",
    "print(shuffle_index)"
   ]
  },
  {
   "cell_type": "markdown",
   "metadata": {},
   "source": [
    "## Binary Classifier"
   ]
  },
  {
   "cell_type": "markdown",
   "metadata": {},
   "source": [
    "Let's stick to creating a binary classifier first which identifies if a digit is a 5 or not."
   ]
  },
  {
   "cell_type": "code",
   "execution_count": 7,
   "metadata": {},
   "outputs": [
    {
     "name": "stdout",
     "output_type": "stream",
     "text": [
      "2\n"
     ]
    }
   ],
   "source": [
    "y_train_5 = (y_train==5)                  # True if 5 else False\n",
    "y_test_5 = (y_test==5)\n",
    "\n",
    "print(len(set(y_train_5)))"
   ]
  },
  {
   "cell_type": "markdown",
   "metadata": {},
   "source": [
    "## Stochastic Gradient Descent Classifier"
   ]
  },
  {
   "cell_type": "markdown",
   "metadata": {},
   "source": [
    "The SGD Classifier works faster with larger datasets because the update of coefficients is done for each instance."
   ]
  },
  {
   "cell_type": "code",
   "execution_count": 8,
   "metadata": {},
   "outputs": [
    {
     "data": {
      "text/plain": [
       "SGDClassifier(alpha=0.0001, average=False, class_weight=None, epsilon=0.1,\n",
       "       eta0=0.0, fit_intercept=True, l1_ratio=0.15,\n",
       "       learning_rate='optimal', loss='hinge', max_iter=5, n_iter=None,\n",
       "       n_jobs=1, penalty='l2', power_t=0.5, random_state=42, shuffle=True,\n",
       "       tol=None, verbose=0, warm_start=False)"
      ]
     },
     "execution_count": 8,
     "metadata": {},
     "output_type": "execute_result"
    }
   ],
   "source": [
    "from sklearn.linear_model import SGDClassifier\n",
    "\n",
    "sgd_cls = SGDClassifier(random_state=42,max_iter=5)\n",
    "sgd_cls.fit(X_train,y_train_5)"
   ]
  },
  {
   "cell_type": "code",
   "execution_count": 9,
   "metadata": {},
   "outputs": [
    {
     "name": "stdout",
     "output_type": "stream",
     "text": [
      "[0.9362  0.88445 0.9471 ]\n"
     ]
    }
   ],
   "source": [
    "from sklearn.model_selection import cross_val_score\n",
    "\n",
    "y_train_pred = cross_val_score(sgd_cls,X_train,y_train_5,cv=3,scoring=\"accuracy\")\n",
    "print(y_train_pred)"
   ]
  },
  {
   "cell_type": "markdown",
   "metadata": {},
   "source": [
    "Accuracy can't be considered as a good measure for performance evaluation of classifiers especially with skewed data."
   ]
  },
  {
   "cell_type": "markdown",
   "metadata": {},
   "source": [
    "### Confusion Matrix"
   ]
  },
  {
   "cell_type": "code",
   "execution_count": 10,
   "metadata": {},
   "outputs": [],
   "source": [
    "from sklearn.model_selection import cross_val_predict\n",
    "\n",
    "y_train_pred = cross_val_predict(sgd_cls,X_train,y_train_5,cv=3) # returns prediction for each instance"
   ]
  },
  {
   "cell_type": "code",
   "execution_count": 11,
   "metadata": {},
   "outputs": [
    {
     "data": {
      "text/plain": [
       "array([[50598,  3981],\n",
       "       [  664,  4757]], dtype=int64)"
      ]
     },
     "execution_count": 11,
     "metadata": {},
     "output_type": "execute_result"
    }
   ],
   "source": [
    "from sklearn.metrics import confusion_matrix\n",
    "\n",
    "confusion_matrix(y_train_5,y_train_pred)"
   ]
  },
  {
   "cell_type": "markdown",
   "metadata": {},
   "source": [
    "In the confusion matrix,<br> rows -> actual classes<br>\n",
    "                      columns -> predicted classes"
   ]
  },
  {
   "cell_type": "code",
   "execution_count": 12,
   "metadata": {},
   "outputs": [
    {
     "name": "stdout",
     "output_type": "stream",
     "text": [
      "0.5444037537193865\n",
      "0.8775133739162516\n",
      "0.6719401087647432\n"
     ]
    }
   ],
   "source": [
    "from sklearn.metrics import precision_score,recall_score,f1_score\n",
    "\n",
    "print(precision_score(y_train_5,y_train_pred),\n",
    "      recall_score(y_train_5,y_train_pred),f1_score(y_train_5,y_train_pred),sep='\\n')"
   ]
  },
  {
   "cell_type": "code",
   "execution_count": 13,
   "metadata": {},
   "outputs": [
    {
     "data": {
      "text/plain": [
       "(60000,)"
      ]
     },
     "execution_count": 13,
     "metadata": {},
     "output_type": "execute_result"
    }
   ],
   "source": [
    "y_scores = cross_val_predict(sgd_cls,X_train,y_train_5,method=\"decision_function\",cv=3)\n",
    "\n",
    "y_scores.shape                         # Decision scores for each instance found using cross-validation"
   ]
  },
  {
   "cell_type": "markdown",
   "metadata": {},
   "source": [
    "We can select the appropriate threshold for the classifier depending upon the required precision and recall values.<br>\n",
    "This can be done by observing either of the two plots below."
   ]
  },
  {
   "cell_type": "markdown",
   "metadata": {},
   "source": [
    "### Precision-recall curve"
   ]
  },
  {
   "cell_type": "code",
   "execution_count": 14,
   "metadata": {},
   "outputs": [
    {
     "data": {
      "image/png": "[encoded data removed]",
      "text/plain": [
       "<Figure size 432x288 with 1 Axes>"
      ]
     },
     "metadata": {},
     "output_type": "display_data"
    }
   ],
   "source": [
    "from sklearn.metrics import precision_recall_curve\n",
    "\n",
    "prec,rec,thresh = precision_recall_curve(y_train_5,y_scores)  # Precision and recall for each threshold\n",
    "plt.plot(thresh,prec[:-1],label=\"Precision\")\n",
    "plt.plot(thresh,rec[:-1],label=\"Recall\")\n",
    "plt.legend()\n",
    "plt.xlabel(\"Thresholds\")\n",
    "plt.show()"
   ]
  },
  {
   "cell_type": "code",
   "execution_count": 15,
   "metadata": {},
   "outputs": [
    {
     "data": {
      "image/png": "[encoded data removed]",
      "text/plain": [
       "<Figure size 432x288 with 1 Axes>"
      ]
     },
     "metadata": {},
     "output_type": "display_data"
    }
   ],
   "source": [
    "plt.plot(rec,prec)\n",
    "plt.xlabel(\"Recall\")\n",
    "plt.ylabel(\"Precision\")\n",
    "plt.show()"
   ]
  },
  {
   "cell_type": "markdown",
   "metadata": {},
   "source": [
    "If we select a threshold of ,say x, we can get the respective predictions by manually classifying based on the y_scores values for each instance. (if y_score[i]>threshold, classify as 1, else as 0)"
   ]
  },
  {
   "cell_type": "markdown",
   "metadata": {},
   "source": [
    "### ROC Curve"
   ]
  },
  {
   "cell_type": "code",
   "execution_count": 16,
   "metadata": {},
   "outputs": [
    {
     "data": {
      "image/png": "[encoded data removed]",
      "text/plain": [
       "<Figure size 432x288 with 1 Axes>"
      ]
     },
     "metadata": {},
     "output_type": "display_data"
    }
   ],
   "source": [
    "from sklearn.metrics import roc_curve\n",
    "\n",
    "fpr,tpr,thresh = roc_curve(y_train_5,y_scores)\n",
    "\n",
    "plt.plot(fpr,tpr,label=\"SGD Classifier\")\n",
    "plt.plot([0,1],[0,1],label=\"Purely Random Classifier\")\n",
    "plt.legend()\n",
    "plt.xlabel(\"False positive rate\")\n",
    "plt.ylabel(\"True positive rate\")\n",
    "plt.show()                                              # ROC Curve i.e, TPR vs FPR"
   ]
  },
  {
   "cell_type": "code",
   "execution_count": 17,
   "metadata": {},
   "outputs": [
    {
     "data": {
      "text/plain": [
       "0.9567618017852061"
      ]
     },
     "execution_count": 17,
     "metadata": {},
     "output_type": "execute_result"
    }
   ],
   "source": [
    "from sklearn.metrics import roc_auc_score\n",
    "\n",
    "roc_auc_score(y_train_5,y_scores)                  # Area under the curve"
   ]
  },
  {
   "cell_type": "markdown",
   "metadata": {},
   "source": [
    "## Random Forest Classifier"
   ]
  },
  {
   "cell_type": "code",
   "execution_count": 18,
   "metadata": {},
   "outputs": [
    {
     "name": "stdout",
     "output_type": "stream",
     "text": [
      "[[1.  0. ]\n",
      " [1.  0. ]\n",
      " [0.8 0.2]\n",
      " ...\n",
      " [1.  0. ]\n",
      " [1.  0. ]\n",
      " [1.  0. ]]\n"
     ]
    }
   ],
   "source": [
    "from sklearn.ensemble import RandomForestClassifier\n",
    "\n",
    "rand_for = RandomForestClassifier(random_state=42)\n",
    "y_for_proba = cross_val_predict(rand_for,X_train,y_train_5,cv=3,method=\"predict_proba\")  # gives the probability that each instance belongs to a particular class\n",
    "print(y_for_proba)"
   ]
  },
  {
   "cell_type": "markdown",
   "metadata": {},
   "source": [
    "Plot both the curves for the present model."
   ]
  },
  {
   "cell_type": "code",
   "execution_count": 19,
   "metadata": {},
   "outputs": [],
   "source": [
    "y_scores_forest = y_for_proba[:,1]        # Probabilities of positive class can be used as scores\n",
    "prec_forest, rec_forest, thresh_forest = precision_recall_curve(y_train_5,y_scores_forest)\n",
    "fpr_forest, tpr_forest, thresh_forest = roc_curve(y_train_5,y_scores_forest)"
   ]
  },
  {
   "cell_type": "code",
   "execution_count": 20,
   "metadata": {},
   "outputs": [
    {
     "data": {
      "image/png": "[encoded data removed]",
      "text/plain": [
       "<Figure size 432x288 with 1 Axes>"
      ]
     },
     "metadata": {},
     "output_type": "display_data"
    }
   ],
   "source": [
    "plt.plot(rec,prec,label=\"SGD Classifier\")\n",
    "plt.plot(rec_forest,prec_forest,label=\"Random Forest Classifier\")\n",
    "plt.legend()\n",
    "plt.xlabel(\"Recall\")\n",
    "plt.ylabel(\"Precision\")\n",
    "plt.show()                                               # PR curve"
   ]
  },
  {
   "cell_type": "code",
   "execution_count": 21,
   "metadata": {},
   "outputs": [
    {
     "data": {
      "image/png": "[encoded data removed]",
      "text/plain": [
       "<Figure size 432x288 with 1 Axes>"
      ]
     },
     "metadata": {},
     "output_type": "display_data"
    }
   ],
   "source": [
    "plt.plot(fpr,tpr,label=\"SGD Classifier\")\n",
    "plt.plot(fpr_forest,tpr_forest,label=\"Random Forest Classifier\")\n",
    "plt.plot([0,1],[0,1],label=\"Purely Random Classifier\")\n",
    "plt.legend()\n",
    "plt.xlabel(\"False positive rate\")\n",
    "plt.ylabel(\"True positive rate\")\n",
    "plt.show()                                        # ROC curve"
   ]
  },
  {
   "cell_type": "code",
   "execution_count": 22,
   "metadata": {},
   "outputs": [
    {
     "name": "stdout",
     "output_type": "stream",
     "text": [
      "0.9916319518283196\n"
     ]
    }
   ],
   "source": [
    "print(roc_auc_score(y_train_5,y_scores_forest))      # ROC AUC"
   ]
  },
  {
   "cell_type": "code",
   "execution_count": 23,
   "metadata": {},
   "outputs": [
    {
     "name": "stdout",
     "output_type": "stream",
     "text": [
      "0.9825021872265967\n",
      "0.8286294041689725\n",
      "0.8990293205243671\n"
     ]
    }
   ],
   "source": [
    "y_train_pred_forest = cross_val_predict(rand_for,X_train,y_train_5,cv=3)\n",
    "\n",
    "print(precision_score(y_train_5,y_train_pred_forest),\n",
    "      recall_score(y_train_5,y_train_pred_forest),f1_score(y_train_5,y_train_pred_forest),sep='\\n')"
   ]
  },
  {
   "cell_type": "markdown",
   "metadata": {},
   "source": [
    "We can observe that the Random Forest Classifier (RFC) is better than the SGD Classifier since<br>\n",
    "1) PR curve has shifted further towards top-right corner meaning that higher precision can be maintained for comparitively higher recall.<br>\n",
    "2) AUC of the ROC curve has increased since it has shifted towards the top-left corner.<br>\n",
    "3) We have a higher precision and recall and thus, a significantly higher F1 score."
   ]
  },
  {
   "cell_type": "markdown",
   "metadata": {},
   "source": [
    "## Multi-class Classification"
   ]
  },
  {
   "cell_type": "code",
   "execution_count": 24,
   "metadata": {},
   "outputs": [
    {
     "data": {
      "text/plain": [
       "SGDClassifier(alpha=0.0001, average=False, class_weight=None, epsilon=0.1,\n",
       "       eta0=0.0, fit_intercept=True, l1_ratio=0.15,\n",
       "       learning_rate='optimal', loss='hinge', max_iter=5, n_iter=None,\n",
       "       n_jobs=1, penalty='l2', power_t=0.5, random_state=42, shuffle=True,\n",
       "       tol=None, verbose=0, warm_start=False)"
      ]
     },
     "execution_count": 24,
     "metadata": {},
     "output_type": "execute_result"
    }
   ],
   "source": [
    "sgd_cls.fit(X_train,y_train)   # Fit the SGD Classifier"
   ]
  },
  {
   "cell_type": "code",
   "execution_count": 25,
   "metadata": {},
   "outputs": [
    {
     "data": {
      "text/plain": [
       "RandomForestClassifier(bootstrap=True, class_weight=None, criterion='gini',\n",
       "            max_depth=None, max_features='auto', max_leaf_nodes=None,\n",
       "            min_impurity_decrease=0.0, min_impurity_split=None,\n",
       "            min_samples_leaf=1, min_samples_split=2,\n",
       "            min_weight_fraction_leaf=0.0, n_estimators=10, n_jobs=1,\n",
       "            oob_score=False, random_state=42, verbose=0, warm_start=False)"
      ]
     },
     "execution_count": 25,
     "metadata": {},
     "output_type": "execute_result"
    }
   ],
   "source": [
    "rand_for.fit(X_train,y_train)    # Fit the RF Classifier"
   ]
  },
  {
   "cell_type": "code",
   "execution_count": 26,
   "metadata": {},
   "outputs": [
    {
     "name": "stdout",
     "output_type": "stream",
     "text": [
      "[0.88267347 0.85344267 0.84377657]\n",
      "[0.94406119 0.94284714 0.93899085]\n"
     ]
    }
   ],
   "source": [
    "print(cross_val_score(sgd_cls,X_train,y_train,cv=3,scoring='accuracy')) # CV score of SGD Classifier\n",
    "print(cross_val_score(rand_for,X_train,y_train,cv=3,scoring='accuracy'))# CV score of RF Classifier"
   ]
  },
  {
   "cell_type": "markdown",
   "metadata": {},
   "source": [
    "Let's try to scale the training set values."
   ]
  },
  {
   "cell_type": "code",
   "execution_count": 27,
   "metadata": {},
   "outputs": [
    {
     "name": "stdout",
     "output_type": "stream",
     "text": [
      "[0.91136773 0.90929546 0.90858629]\n",
      "[0.94416117 0.94279714 0.93909086]\n"
     ]
    }
   ],
   "source": [
    "from sklearn.preprocessing import StandardScaler\n",
    "\n",
    "sc = StandardScaler()\n",
    "X_train_scaled = sc.fit_transform(X_train.astype(np.float64))\n",
    "print(cross_val_score(sgd_cls,X_train_scaled,y_train,cv=3,scoring='accuracy')) # New CV score of SGD Classifier\n",
    "print(cross_val_score(rand_for,X_train_scaled,y_train,cv=3,scoring='accuracy'))# New CV score of RF Classifier"
   ]
  },
  {
   "cell_type": "markdown",
   "metadata": {},
   "source": [
    "We can observe that scaling has increased the accuracy of SGD Classifier but there's no change in that of the RF Classifier. This is because RF is insensitive to scaling of features."
   ]
  },
  {
   "cell_type": "markdown",
   "metadata": {},
   "source": [
    "## Hyperparameter Tuning"
   ]
  },
  {
   "cell_type": "markdown",
   "metadata": {},
   "source": [
    "### Grid Search"
   ]
  },
  {
   "cell_type": "code",
   "execution_count": 28,
   "metadata": {},
   "outputs": [
    {
     "data": {
      "text/plain": [
       "GridSearchCV(cv=3, error_score='raise',\n",
       "       estimator=SGDClassifier(alpha=0.0001, average=False, class_weight=None, epsilon=0.1,\n",
       "       eta0=0.0, fit_intercept=True, l1_ratio=0.15,\n",
       "       learning_rate='optimal', loss='hinge', max_iter=None, n_iter=None,\n",
       "       n_jobs=1, penalty='l2', power_t=0.5, random_state=42, shuffle=True,\n",
       "       tol=None, verbose=0, warm_start=False),\n",
       "       fit_params=None, iid=True, n_jobs=1,\n",
       "       param_grid=[{'alpha': [0.0001, 0.0003, 1e-05], 'max_iter': [5, 10, 15]}],\n",
       "       pre_dispatch='2*n_jobs', refit=True, return_train_score=True,\n",
       "       scoring='accuracy', verbose=0)"
      ]
     },
     "execution_count": 28,
     "metadata": {},
     "output_type": "execute_result"
    }
   ],
   "source": [
    "from sklearn.model_selection import GridSearchCV\n",
    "\n",
    "param_grid_SGD = [{'alpha' : [0.0001,0.0003,0.00001],'max_iter' : [5,10,15]}]\n",
    "sgd_cls_gs = SGDClassifier(random_state=42)\n",
    "grid_search_SGD = GridSearchCV(sgd_cls_gs,param_grid_SGD,cv=3,scoring='accuracy',return_train_score=True)\n",
    "grid_search_SGD.fit(X_train_scaled,y_train)               # Grid Search for SGD Classifier"
   ]
  },
  {
   "cell_type": "code",
   "execution_count": 29,
   "metadata": {},
   "outputs": [],
   "source": [
    "sgd_cls_gs = grid_search_SGD.best_estimator_"
   ]
  },
  {
   "cell_type": "code",
   "execution_count": 30,
   "metadata": {},
   "outputs": [
    {
     "data": {
      "text/plain": [
       "GridSearchCV(cv=3, error_score='raise',\n",
       "       estimator=RandomForestClassifier(bootstrap=True, class_weight=None, criterion='gini',\n",
       "            max_depth=None, max_features='auto', max_leaf_nodes=None,\n",
       "            min_impurity_decrease=0.0, min_impurity_split=None,\n",
       "            min_samples_leaf=1, min_samples_split=2,\n",
       "            min_weight_fraction_leaf=0.0, n_estimators=10, n_jobs=1,\n",
       "            oob_score=False, random_state=42, verbose=0, warm_start=False),\n",
       "       fit_params=None, iid=True, n_jobs=1,\n",
       "       param_grid=[{'n_estimators': [3, 10, 30], 'max_features': ['auto', 'log2']}],\n",
       "       pre_dispatch='2*n_jobs', refit=True, return_train_score=True,\n",
       "       scoring='accuracy', verbose=0)"
      ]
     },
     "execution_count": 30,
     "metadata": {},
     "output_type": "execute_result"
    }
   ],
   "source": [
    "param_grid_RF = [{'n_estimators' : [3,10,30],'max_features' : ['auto','log2']}]\n",
    "rand_for_gs = RandomForestClassifier(random_state=42)\n",
    "grid_search_RF = GridSearchCV(rand_for_gs,param_grid_RF,cv=3,scoring='accuracy',return_train_score=True)\n",
    "grid_search_RF.fit(X_train,y_train)               # Grid Search for RF Classifier"
   ]
  },
  {
   "cell_type": "code",
   "execution_count": 31,
   "metadata": {},
   "outputs": [],
   "source": [
    "rand_for_gs = grid_search_RF.best_estimator_"
   ]
  },
  {
   "cell_type": "code",
   "execution_count": 32,
   "metadata": {},
   "outputs": [
    {
     "name": "stdout",
     "output_type": "stream",
     "text": [
      "[0.91041792 0.91239562 0.91123669]\n",
      "[0.96130774 0.96044802 0.95789368]\n"
     ]
    }
   ],
   "source": [
    "print(cross_val_score(sgd_cls_gs,X_train_scaled,y_train,cv=3,scoring='accuracy')) # New CV score of SGD Classifier\n",
    "print(cross_val_score(rand_for_gs,X_train_scaled,y_train,cv=3,scoring='accuracy'))# New CV score of RF Classifier"
   ]
  },
  {
   "cell_type": "markdown",
   "metadata": {},
   "source": [
    "We can observe that the performance of both the models has slightly increased."
   ]
  },
  {
   "cell_type": "markdown",
   "metadata": {},
   "source": [
    "## Error Analysis "
   ]
  },
  {
   "cell_type": "code",
   "execution_count": 33,
   "metadata": {},
   "outputs": [
    {
     "data": {
      "text/plain": [
       "array([[5712,    1,   17,    8,    6,   43,   47,    5,   83,    1],\n",
       "       [   1, 6447,   48,   22,    6,   41,    6,    9,  146,   16],\n",
       "       [  38,   34, 5299,  113,   62,   26,   77,   51,  240,   18],\n",
       "       [  31,   27,  122, 5369,    7,  217,   30,   46,  194,   88],\n",
       "       [  17,   24,   41,   14, 5348,    9,   51,   35,  119,  184],\n",
       "       [  47,   26,   32,  175,   55, 4617,   93,   28,  261,   87],\n",
       "       [  25,   16,   65,    2,   37,   97, 5606,    9,   60,    1],\n",
       "       [  20,    9,   55,   28,   48,   13,    6, 5800,   45,  241],\n",
       "       [  40,   85,   55,  123,    8,  149,   49,   20, 5234,   88],\n",
       "       [  26,   24,   26,   67,  154,   37,    2,  222,  142, 5249]],\n",
       "      dtype=int64)"
      ]
     },
     "execution_count": 33,
     "metadata": {},
     "output_type": "execute_result"
    }
   ],
   "source": [
    "y_train_pred_sgd = cross_val_predict(sgd_cls_gs,X_train_scaled,y_train,cv=3)\n",
    "conf_mx_sgd = confusion_matrix(y_train,y_train_pred_sgd)        # Confusion Matrix for improved SGD classifier\n",
    "conf_mx_sgd"
   ]
  },
  {
   "cell_type": "code",
   "execution_count": 34,
   "metadata": {},
   "outputs": [
    {
     "data": {
      "image/png": "[encoded data removed]",
      "text/plain": [
       "<Figure size 288x288 with 1 Axes>"
      ]
     },
     "metadata": {},
     "output_type": "display_data"
    }
   ],
   "source": [
    "plt.matshow(conf_mx_sgd,cmap=plt.cm.gray)\n",
    "plt.show()"
   ]
  },
  {
   "cell_type": "markdown",
   "metadata": {},
   "source": [
    "This classifier seems pretty good as the white squares (higher values) are located along the diagonal.<br>\n",
    "To focus on errors, we first need to divide the entries in conf. matrix by total no. of instances of that class so as to depict error rates instead of absolute erraneous instances.<br>\n",
    "After this, we replace the diagonal entries with 0 so as to represent errors. (0 is the lowest value and will be given the color black)"
   ]
  },
  {
   "cell_type": "code",
   "execution_count": 35,
   "metadata": {},
   "outputs": [
    {
     "data": {
      "text/plain": [
       "array([[0.        , 0.00016883, 0.00287017, 0.00135067, 0.001013  ,\n",
       "        0.00725983, 0.00793517, 0.00084417, 0.01401317, 0.00016883],\n",
       "       [0.00014832, 0.        , 0.00711955, 0.00326313, 0.00088994,\n",
       "        0.00608128, 0.00088994, 0.00133492, 0.0216553 , 0.00237318],\n",
       "       [0.00637798, 0.00570661, 0.        , 0.0189661 , 0.01040618,\n",
       "        0.00436388, 0.0129238 , 0.00855992, 0.04028197, 0.00302115],\n",
       "       [0.00505627, 0.00440385, 0.01989887, 0.        , 0.00114174,\n",
       "        0.0353939 , 0.00489317, 0.00750285, 0.03164247, 0.01435329],\n",
       "       [0.00290996, 0.00410818, 0.00701814, 0.00239644, 0.        ,\n",
       "        0.00154057, 0.00872989, 0.0059911 , 0.02036974, 0.03149606],\n",
       "       [0.00866999, 0.00479616, 0.00590297, 0.03228187, 0.01014573,\n",
       "        0.        , 0.01715551, 0.0051651 , 0.0481461 , 0.0160487 ],\n",
       "       [0.0042244 , 0.00270362, 0.01098344, 0.00033795, 0.00625211,\n",
       "        0.01639067, 0.        , 0.00152078, 0.01013856, 0.00016898],\n",
       "       [0.00319234, 0.00143655, 0.00877893, 0.00446927, 0.00766161,\n",
       "        0.00207502, 0.0009577 , 0.        , 0.00718276, 0.03846768],\n",
       "       [0.00683644, 0.01452743, 0.0094001 , 0.02102205, 0.00136729,\n",
       "        0.02546573, 0.00837464, 0.00341822, 0.        , 0.01504016],\n",
       "       [0.00437048, 0.00403429, 0.00437048, 0.0112624 , 0.0258867 ,\n",
       "        0.00621953, 0.00033619, 0.0373172 , 0.02386956, 0.        ]])"
      ]
     },
     "execution_count": 35,
     "metadata": {},
     "output_type": "execute_result"
    }
   ],
   "source": [
    "row_sums_sgd = conf_mx_sgd.sum(axis=1,keepdims=True)\n",
    "norm_conf_mx_sgd = conf_mx_sgd / row_sums_sgd   # Normalized Confusion Matrix\n",
    "np.fill_diagonal(norm_conf_mx_sgd,0)            # Replace diagonal elements with 0\n",
    "norm_conf_mx_sgd"
   ]
  },
  {
   "cell_type": "code",
   "execution_count": 36,
   "metadata": {},
   "outputs": [
    {
     "data": {
      "image/png": "[encoded data removed]",
      "text/plain": [
       "<Figure size 288x288 with 1 Axes>"
      ]
     },
     "metadata": {},
     "output_type": "display_data"
    }
   ],
   "source": [
    "plt.matshow(norm_conf_mx_sgd,cmap=plt.cm.gray)\n",
    "plt.show()"
   ]
  },
  {
   "cell_type": "markdown",
   "metadata": {},
   "source": [
    "Higher the brightness, higher is the error rate.<br>\n",
    "We can see that the classifier confuses between 3 and 5. Also, many 5's are misclassified as 8's.<br>\n",
    "Let's perform a similar analysis for RF Classifier."
   ]
  },
  {
   "cell_type": "code",
   "execution_count": 37,
   "metadata": {},
   "outputs": [
    {
     "data": {
      "text/plain": [
       "array([[5847,    1,   13,    5,    4,    6,   20,    1,   24,    2],\n",
       "       [   0, 6627,   40,   16,   12,    7,    7,   12,   16,    5],\n",
       "       [  34,   17, 5730,   28,   32,    7,   19,   40,   39,   12],\n",
       "       [  15,   14,  102, 5771,    4,   75,    6,   44,   72,   28],\n",
       "       [  13,    6,   16,    2, 5628,    1,   24,   11,   23,  118],\n",
       "       [  30,    9,   12,   97,   11, 5146,   41,    7,   45,   23],\n",
       "       [  30,   11,   10,    1,   14,   50, 5777,    0,   24,    1],\n",
       "       [  11,   25,   69,    8,   44,    3,    0, 6014,   15,   76],\n",
       "       [  19,   35,   47,   71,   34,   59,   35,   11, 5473,   67],\n",
       "       [  27,   11,   21,   87,   89,   22,    4,   65,   43, 5580]],\n",
       "      dtype=int64)"
      ]
     },
     "execution_count": 37,
     "metadata": {},
     "output_type": "execute_result"
    }
   ],
   "source": [
    "y_train_pred_rf = cross_val_predict(rand_for_gs,X_train_scaled,y_train,cv=3)\n",
    "conf_mx_rf = confusion_matrix(y_train,y_train_pred_rf)        # Confusion Matrix for improved RF classifier\n",
    "conf_mx_rf"
   ]
  },
  {
   "cell_type": "code",
   "execution_count": 38,
   "metadata": {},
   "outputs": [
    {
     "data": {
      "image/png": "[encoded data removed]",
      "text/plain": [
       "<Figure size 288x288 with 1 Axes>"
      ]
     },
     "metadata": {},
     "output_type": "display_data"
    }
   ],
   "source": [
    "plt.matshow(conf_mx_rf,cmap=plt.cm.gray)\n",
    "plt.show()"
   ]
  },
  {
   "cell_type": "code",
   "execution_count": 39,
   "metadata": {},
   "outputs": [
    {
     "data": {
      "text/plain": [
       "array([[0.        , 0.00016883, 0.00219483, 0.00084417, 0.00067533,\n",
       "        0.001013  , 0.00337667, 0.00016883, 0.004052  , 0.00033767],\n",
       "       [0.        , 0.        , 0.00593296, 0.00237318, 0.00177989,\n",
       "        0.00103827, 0.00103827, 0.00177989, 0.00237318, 0.00074162],\n",
       "       [0.00570661, 0.00285331, 0.        , 0.00469956, 0.00537093,\n",
       "        0.00117489, 0.00318899, 0.00671366, 0.00654582, 0.0020141 ],\n",
       "       [0.00244658, 0.00228348, 0.01663676, 0.        , 0.00065242,\n",
       "        0.01223291, 0.00097863, 0.00717664, 0.0117436 , 0.00456695],\n",
       "       [0.00222527, 0.00102705, 0.00273879, 0.00034235, 0.        ,\n",
       "        0.00017117, 0.00410818, 0.00188292, 0.00393701, 0.02019856],\n",
       "       [0.00553403, 0.00166021, 0.00221361, 0.01789338, 0.00202915,\n",
       "        0.        , 0.00756318, 0.00129127, 0.00830105, 0.00424276],\n",
       "       [0.00506928, 0.00185874, 0.00168976, 0.00016898, 0.00236566,\n",
       "        0.0084488 , 0.        , 0.        , 0.00405542, 0.00016898],\n",
       "       [0.00175579, 0.00399042, 0.01101357, 0.00127694, 0.00702314,\n",
       "        0.00047885, 0.        , 0.        , 0.00239425, 0.01213089],\n",
       "       [0.00324731, 0.00598188, 0.00803281, 0.01213468, 0.00581097,\n",
       "        0.01008375, 0.00598188, 0.00188002, 0.        , 0.01145103],\n",
       "       [0.00453858, 0.00184905, 0.00353001, 0.01462431, 0.0149605 ,\n",
       "        0.0036981 , 0.00067238, 0.01092621, 0.00722811, 0.        ]])"
      ]
     },
     "execution_count": 39,
     "metadata": {},
     "output_type": "execute_result"
    }
   ],
   "source": [
    "row_sums_rf = conf_mx_rf.sum(axis=1,keepdims=True)\n",
    "norm_conf_mx_rf = conf_mx_rf / row_sums_rf   # Normalized Confusion Matrix\n",
    "np.fill_diagonal(norm_conf_mx_rf,0)            # Replace diagonal elements with 0\n",
    "norm_conf_mx_rf"
   ]
  },
  {
   "cell_type": "code",
   "execution_count": 40,
   "metadata": {},
   "outputs": [
    {
     "data": {
      "image/png": "[encoded data removed]",
      "text/plain": [
       "<Figure size 288x288 with 1 Axes>"
      ]
     },
     "metadata": {},
     "output_type": "display_data"
    }
   ],
   "source": [
    "plt.matshow(norm_conf_mx_rf,cmap=plt.cm.gray)\n",
    "plt.show()"
   ]
  },
  {
   "cell_type": "markdown",
   "metadata": {},
   "source": [
    "We can see that the RF Classifier struggles with correctly predicting 8's and 9's. It also performs poorly in distinguishing between 4's and 9's."
   ]
  },
  {
   "cell_type": "markdown",
   "metadata": {},
   "source": [
    "## Data Augmentation"
   ]
  },
  {
   "cell_type": "markdown",
   "metadata": {},
   "source": [
    "For each image in the training set, shift it by 1 pixel in all 4 directions and append these 4 new images into the training set."
   ]
  },
  {
   "cell_type": "code",
   "execution_count": 41,
   "metadata": {},
   "outputs": [],
   "source": [
    "def image_shift(img, s_x, s_y):\n",
    "    img = img.reshape((28, 28))\n",
    "    shifted_img = shift(img, [s_y, s_x], cval=0, mode=\"constant\")\n",
    "    return shifted_img.reshape([-1])"
   ]
  },
  {
   "cell_type": "code",
   "execution_count": 42,
   "metadata": {},
   "outputs": [],
   "source": [
    "from scipy.ndimage.interpolation import shift\n",
    "\n",
    "X_train_aug = [x for x in X_train]\n",
    "y_train_aug = [y for y in y_train]\n",
    "\n",
    "for img,label in zip(X_train,y_train):\n",
    "    X_train_aug.append(image_shift(img,1,0))          # Shift  right\n",
    "    y_train_aug.append(label)\n",
    "    X_train_aug.append(image_shift(img,0,1))          # Shift down\n",
    "    y_train_aug.append(label)\n",
    "    X_train_aug.append(image_shift(img,-1,0))         # Shift left\n",
    "    y_train_aug.append(label)\n",
    "    X_train_aug.append(image_shift(img,0,-1))         # Shift up\n",
    "    y_train_aug.append(label)\n",
    "\n",
    "X_train_aug = np.array(X_train_aug)\n",
    "y_train_aug = np.array(y_train_aug)"
   ]
  },
  {
   "cell_type": "code",
   "execution_count": 43,
   "metadata": {},
   "outputs": [
    {
     "data": {
      "text/plain": [
       "(300000, 784)"
      ]
     },
     "execution_count": 43,
     "metadata": {},
     "output_type": "execute_result"
    }
   ],
   "source": [
    "X_train_aug.shape"
   ]
  },
  {
   "cell_type": "code",
   "execution_count": 44,
   "metadata": {},
   "outputs": [
    {
     "name": "stdout",
     "output_type": "stream",
     "text": [
      "[278282  85475 288663 ... 119246  78928  15178]\n"
     ]
    }
   ],
   "source": [
    "shuffle_index = np.random.permutation(300000)\n",
    "X_train_aug, y_train_aug = X_train_aug[shuffle_index], y_train_aug[shuffle_index]\n",
    "print(shuffle_index)                        # Shuffle the set"
   ]
  },
  {
   "cell_type": "code",
   "execution_count": 45,
   "metadata": {},
   "outputs": [],
   "source": [
    "X_train_aug_scaled = sc.fit_transform(X_train_aug.astype(np.float64))  # Scale the data for SGD Classifier"
   ]
  },
  {
   "cell_type": "code",
   "execution_count": 46,
   "metadata": {},
   "outputs": [
    {
     "data": {
      "text/plain": [
       "SGDClassifier(alpha=0.0001, average=False, class_weight=None, epsilon=0.1,\n",
       "       eta0=0.0, fit_intercept=True, l1_ratio=0.15,\n",
       "       learning_rate='optimal', loss='hinge', max_iter=5, n_iter=None,\n",
       "       n_jobs=1, penalty='l2', power_t=0.5, random_state=42, shuffle=True,\n",
       "       tol=None, verbose=0, warm_start=False)"
      ]
     },
     "execution_count": 46,
     "metadata": {},
     "output_type": "execute_result"
    }
   ],
   "source": [
    "sgd_cls_aug = SGDClassifier(random_state=42,max_iter=5)\n",
    "sgd_cls_aug.fit(X_train_aug_scaled,y_train_aug)"
   ]
  },
  {
   "cell_type": "code",
   "execution_count": 47,
   "metadata": {},
   "outputs": [
    {
     "data": {
      "text/plain": [
       "RandomForestClassifier(bootstrap=True, class_weight=None, criterion='gini',\n",
       "            max_depth=None, max_features='auto', max_leaf_nodes=None,\n",
       "            min_impurity_decrease=0.0, min_impurity_split=None,\n",
       "            min_samples_leaf=1, min_samples_split=2,\n",
       "            min_weight_fraction_leaf=0.0, n_estimators=10, n_jobs=1,\n",
       "            oob_score=False, random_state=42, verbose=0, warm_start=False)"
      ]
     },
     "execution_count": 47,
     "metadata": {},
     "output_type": "execute_result"
    }
   ],
   "source": [
    "rand_for_aug = RandomForestClassifier(random_state=42)\n",
    "rand_for_aug.fit(X_train_aug_scaled,y_train_aug)"
   ]
  },
  {
   "cell_type": "code",
   "execution_count": 48,
   "metadata": {},
   "outputs": [
    {
     "name": "stdout",
     "output_type": "stream",
     "text": [
      "[0.87904363 0.88236118 0.8823853 ]\n",
      "[0.95471136 0.95534045 0.95577823]\n"
     ]
    }
   ],
   "source": [
    "print(cross_val_score(sgd_cls_aug,X_train_aug_scaled,y_train_aug,cv=3,scoring='accuracy')) # New CV score of SGD Classifier\n",
    "print(cross_val_score(rand_for_aug,X_train_aug_scaled,y_train_aug,cv=3,scoring='accuracy'))# New CV score of RF Classifier"
   ]
  },
  {
   "cell_type": "markdown",
   "metadata": {},
   "source": [
    "We see that data augmentation hasn't increased the performance of both the classifiers.<br> On the contrary, it has decreased the accuracy.<br>\n",
    "So, we stick to the RF Classifier obtained after grid search."
   ]
  },
  {
   "cell_type": "markdown",
   "metadata": {},
   "source": [
    "## Evaluation on the test set"
   ]
  },
  {
   "cell_type": "code",
   "execution_count": 49,
   "metadata": {},
   "outputs": [
    {
     "data": {
      "text/plain": [
       "0.9642"
      ]
     },
     "execution_count": 49,
     "metadata": {},
     "output_type": "execute_result"
    }
   ],
   "source": [
    "from sklearn.metrics import accuracy_score\n",
    "\n",
    "y_pred_test = rand_for_gs.predict(X_test)\n",
    "accuracy_score(y_test,y_pred_test)"
   ]
  },
  {
   "cell_type": "markdown",
   "metadata": {},
   "source": [
    "The RF model attained an accuracy of 96% in the test set."
   ]
  }
 ],
 "metadata": {
  "kernelspec": {
   "display_name": "Python 3",
   "language": "python",
   "name": "python3"
  },
  "language_info": {
   "codemirror_mode": {
    "name": "ipython",
    "version": 3
   },
   "file_extension": ".py",
   "mimetype": "text/x-python",
   "name": "python",
   "nbconvert_exporter": "python",
   "pygments_lexer": "ipython3",
   "version": "3.6.5"
  }
 },
 "nbformat": 4,
 "nbformat_minor": 2
}
