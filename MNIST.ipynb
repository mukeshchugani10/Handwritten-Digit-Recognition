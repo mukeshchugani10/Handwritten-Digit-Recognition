{
 "cells": [
  {
   "cell_type": "markdown",
   "metadata": {},
   "source": [
    "# Recognition of Hand-Written Digits"
   ]
  },
  {
   "cell_type": "markdown",
   "metadata": {},
   "source": [
    "## Fetch the data (MNIST Dataset)"
   ]
  },
  {
   "cell_type": "code",
   "execution_count": 1,
   "metadata": {},
   "outputs": [],
   "source": [
    "from six.moves import urllib\n",
    "from sklearn.datasets import fetch_mldata\n",
    "try:\n",
    "    mnist = fetch_mldata('MNIST original')\n",
    "except urllib.error.HTTPError as ex:\n",
    "    print(\"Could not download MNIST data from mldata.org, trying alternative...\")\n",
    "\n",
    "    # Alternative method to load MNIST, if mldata.org is down\n",
    "    from scipy.io import loadmat\n",
    "    mnist_alternative_url = \"https://github.com/amplab/datascience-sp14/raw/master/lab7/mldata/mnist-original.mat\"\n",
    "    mnist_path = \"./mnist-original.mat\"\n",
    "    response = urllib.request.urlopen(mnist_alternative_url)\n",
    "    with open(mnist_path, \"wb\") as f:\n",
    "        content = response.read()\n",
    "        f.write(content)\n",
    "    mnist_raw = loadmat(mnist_path)\n",
    "    mnist = {\n",
    "        \"data\": mnist_raw[\"data\"].T,\n",
    "        \"target\": mnist_raw[\"label\"][0],\n",
    "        \"COL_NAMES\": [\"label\", \"data\"],\n",
    "        \"DESCR\": \"mldata.org dataset: mnist-original\",\n",
    "    }\n",
    "    print(\"Success!\")"
   ]
  },
  {
   "cell_type": "code",
   "execution_count": 2,
   "metadata": {},
   "outputs": [
    {
     "name": "stdout",
     "output_type": "stream",
     "text": [
      "(70000, 784)\n",
      "(70000,)\n"
     ]
    }
   ],
   "source": [
    "X,y = mnist['data'],mnist['target']\n",
    "\n",
    "print(X.shape,y.shape,sep='\\n')"
   ]
  },
  {
   "cell_type": "markdown",
   "metadata": {},
   "source": [
    "Each instance has 784 features i.e, each image is of dimensions 28 X 28 pixels.<br>\n",
    "Let's consider a sample from the dataset."
   ]
  },
  {
   "cell_type": "code",
   "execution_count": 6,
   "metadata": {},
   "outputs": [
    {
     "data": {
      "image/png": "[encoded data removed]",
      "text/plain": [
       "<Figure size 432x288 with 1 Axes>"
      ]
     },
     "metadata": {},
     "output_type": "display_data"
    },
    {
     "name": "stdout",
     "output_type": "stream",
     "text": [
      "0.0\n"
     ]
    }
   ],
   "source": [
    "import matplotlib\n",
    "import matplotlib.pyplot as plt\n",
    "\n",
    "eg_digit = X[2750]\n",
    "eg_digit_image = eg_digit.reshape(28,28)\n",
    "plt.imshow(eg_digit_image,cmap=matplotlib.cm.binary)\n",
    "plt.show()                                               # Print the digit\n",
    "\n",
    "print(y[2750])                                           # Corresponding target value"
   ]
  },
  {
   "cell_type": "markdown",
   "metadata": {},
   "source": [
    "We need to seperate the train set and the test set. MNIST dataset is already divided into train set(first 60,000 images) and test set(last 10,000 images)."
   ]
  },
  {
   "cell_type": "code",
   "execution_count": 4,
   "metadata": {},
   "outputs": [],
   "source": [
    "X_train, X_test, y_train, y_test = X[:60000], X[60000:], y[:60000], y[60000:]"
   ]
  },
  {
   "cell_type": "code",
   "execution_count": 5,
   "metadata": {},
   "outputs": [
    {
     "name": "stdout",
     "output_type": "stream",
     "text": [
      "60000\n",
      "60000\n"
     ]
    },
    {
     "data": {
      "text/plain": [
       "numpy.ndarray"
      ]
     },
     "execution_count": 5,
     "metadata": {},
     "output_type": "execute_result"
    }
   ],
   "source": [
    "print(len(X_train))\n",
    "print(len(y_train))\n",
    "type(X_train)"
   ]
  },
  {
   "cell_type": "markdown",
   "metadata": {},
   "source": [
    "We first need to shuffle the training set as some algorithms can be sensitive to the order of training set instances."
   ]
  },
  {
   "cell_type": "code",
   "execution_count": 6,
   "metadata": {},
   "outputs": [
    {
     "name": "stdout",
     "output_type": "stream",
     "text": [
      "[ 4035 27866 21100 ... 13088 46993 22371]\n"
     ]
    }
   ],
   "source": [
    "import numpy as np\n",
    "\n",
    "shuffle_index = np.random.permutation(60000)\n",
    "X_train, y_train = X_train[shuffle_index], y_train[shuffle_index]\n",
    "print(shuffle_index)"
   ]
  },
  {
   "cell_type": "markdown",
   "metadata": {},
   "source": [
    "## Binary Classifier"
   ]
  },
  {
   "cell_type": "markdown",
   "metadata": {},
   "source": [
    "Let's stick to creating a binary classifier first which identifies if a digit is a 5 or not."
   ]
  },
  {
   "cell_type": "code",
   "execution_count": 7,
   "metadata": {},
   "outputs": [
    {
     "name": "stdout",
     "output_type": "stream",
     "text": [
      "2\n"
     ]
    }
   ],
   "source": [
    "y_train_5 = (y_train==5)                  # True if 5 else False\n",
    "y_test_5 = (y_test==5)\n",
    "\n",
    "print(len(set(y_train_5)))"
   ]
  },
  {
   "cell_type": "markdown",
   "metadata": {},
   "source": [
    "## Stochastic Gradient Descent Classifier"
   ]
  },
  {
   "cell_type": "markdown",
   "metadata": {},
   "source": [
    "The SGD Classifier works faster with larger datasets because the update of coefficients is done for each instance."
   ]
  },
  {
   "cell_type": "code",
   "execution_count": 8,
   "metadata": {},
   "outputs": [
    {
     "data": {
      "text/plain": [
       "SGDClassifier(alpha=0.0001, average=False, class_weight=None, epsilon=0.1,\n",
       "       eta0=0.0, fit_intercept=True, l1_ratio=0.15,\n",
       "       learning_rate='optimal', loss='hinge', max_iter=5, n_iter=None,\n",
       "       n_jobs=1, penalty='l2', power_t=0.5, random_state=42, shuffle=True,\n",
       "       tol=None, verbose=0, warm_start=False)"
      ]
     },
     "execution_count": 8,
     "metadata": {},
     "output_type": "execute_result"
    }
   ],
   "source": [
    "from sklearn.linear_model import SGDClassifier\n",
    "\n",
    "sgd_cls = SGDClassifier(random_state=42,max_iter=5)\n",
    "sgd_cls.fit(X_train,y_train_5)"
   ]
  },
  {
   "cell_type": "code",
   "execution_count": 9,
   "metadata": {},
   "outputs": [
    {
     "name": "stdout",
     "output_type": "stream",
     "text": [
      "[0.9606  0.96495 0.95785]\n"
     ]
    }
   ],
   "source": [
    "from sklearn.model_selection import cross_val_score\n",
    "\n",
    "y_train_pred = cross_val_score(sgd_cls,X_train,y_train_5,cv=3,scoring=\"accuracy\")\n",
    "print(y_train_pred)"
   ]
  },
  {
   "cell_type": "markdown",
   "metadata": {},
   "source": [
    "Accuracy can't be considered as a good measure for performance evaluation of classifiers especially with skewed data."
   ]
  },
  {
   "cell_type": "markdown",
   "metadata": {},
   "source": [
    "### Confusion Matrix"
   ]
  },
  {
   "cell_type": "code",
   "execution_count": 10,
   "metadata": {},
   "outputs": [],
   "source": [
    "from sklearn.model_selection import cross_val_predict\n",
    "\n",
    "y_train_pred = cross_val_predict(sgd_cls,X_train,y_train_5,cv=3) # returns prediction for each instance"
   ]
  },
  {
   "cell_type": "code",
   "execution_count": 11,
   "metadata": {},
   "outputs": [
    {
     "data": {
      "text/plain": [
       "array([[54051,   528],\n",
       "       [ 1804,  3617]], dtype=int64)"
      ]
     },
     "execution_count": 11,
     "metadata": {},
     "output_type": "execute_result"
    }
   ],
   "source": [
    "from sklearn.metrics import confusion_matrix\n",
    "\n",
    "confusion_matrix(y_train_5,y_train_pred)"
   ]
  },
  {
   "cell_type": "markdown",
   "metadata": {},
   "source": [
    "In the confusion matrix,<br> rows -> actual classes<br>\n",
    "                      columns -> predicted classes"
   ]
  },
  {
   "cell_type": "code",
   "execution_count": 12,
   "metadata": {},
   "outputs": [
    {
     "name": "stdout",
     "output_type": "stream",
     "text": [
      "0.8726176115802171\n",
      "0.667220070097768\n",
      "0.7562199456408112\n"
     ]
    }
   ],
   "source": [
    "from sklearn.metrics import precision_score,recall_score,f1_score\n",
    "\n",
    "print(precision_score(y_train_5,y_train_pred),\n",
    "      recall_score(y_train_5,y_train_pred),f1_score(y_train_5,y_train_pred),sep='\\n')"
   ]
  },
  {
   "cell_type": "code",
   "execution_count": 13,
   "metadata": {},
   "outputs": [
    {
     "data": {
      "text/plain": [
       "(60000,)"
      ]
     },
     "execution_count": 13,
     "metadata": {},
     "output_type": "execute_result"
    }
   ],
   "source": [
    "y_scores = cross_val_predict(sgd_cls,X_train,y_train_5,method=\"decision_function\",cv=3)\n",
    "\n",
    "y_scores.shape                         # Decision scores for each instance found using cross-validation"
   ]
  },
  {
   "cell_type": "markdown",
   "metadata": {},
   "source": [
    "We can select the appropriate threshold for the classifier depending upon the required precision and recall values.<br>\n",
    "This can be done by observing either of the two plots below."
   ]
  },
  {
   "cell_type": "markdown",
   "metadata": {},
   "source": [
    "### Precision-recall curve"
   ]
  },
  {
   "cell_type": "code",
   "execution_count": 14,
   "metadata": {},
   "outputs": [
    {
     "data": {
      "image/png": "[encoded data removed]",
      "text/plain": [
       "<Figure size 432x288 with 1 Axes>"
      ]
     },
     "metadata": {},
     "output_type": "display_data"
    }
   ],
   "source": [
    "from sklearn.metrics import precision_recall_curve\n",
    "\n",
    "prec,rec,thresh = precision_recall_curve(y_train_5,y_scores)  # Precision and recall for each threshold\n",
    "plt.plot(thresh,prec[:-1],label=\"Precision\")\n",
    "plt.plot(thresh,rec[:-1],label=\"Recall\")\n",
    "plt.legend()\n",
    "plt.xlabel(\"Thresholds\")\n",
    "plt.show()"
   ]
  },
  {
   "cell_type": "code",
   "execution_count": 15,
   "metadata": {},
   "outputs": [
    {
     "data": {
      "image/png": "[encoded data removed]",
      "text/plain": [
       "<Figure size 432x288 with 1 Axes>"
      ]
     },
     "metadata": {},
     "output_type": "display_data"
    }
   ],
   "source": [
    "plt.plot(rec,prec)\n",
    "plt.xlabel(\"Recall\")\n",
    "plt.ylabel(\"Precision\")\n",
    "plt.show()"
   ]
  },
  {
   "cell_type": "markdown",
   "metadata": {},
   "source": [
    "If we select a threshold of ,say x, we can get the respective predictions by manually classifying based on the y_scores values for each instance. (if y_score[i]>threshold, classify as 1, else as 0)"
   ]
  },
  {
   "cell_type": "markdown",
   "metadata": {},
   "source": [
    "### ROC Curve"
   ]
  },
  {
   "cell_type": "code",
   "execution_count": 16,
   "metadata": {},
   "outputs": [
    {
     "data": {
      "image/png": "[encoded data removed]",
      "text/plain": [
       "<Figure size 432x288 with 1 Axes>"
      ]
     },
     "metadata": {},
     "output_type": "display_data"
    }
   ],
   "source": [
    "from sklearn.metrics import roc_curve\n",
    "\n",
    "fpr,tpr,thresh = roc_curve(y_train_5,y_scores)\n",
    "\n",
    "plt.plot(fpr,tpr,label=\"SGD Classifier\")\n",
    "plt.plot([0,1],[0,1],label=\"Purely Random Classifier\")\n",
    "plt.legend()\n",
    "plt.xlabel(\"False positive rate\")\n",
    "plt.ylabel(\"True positive rate\")\n",
    "plt.show()                                              # ROC Curve i.e, TPR vs FPR"
   ]
  },
  {
   "cell_type": "code",
   "execution_count": 17,
   "metadata": {},
   "outputs": [
    {
     "data": {
      "text/plain": [
       "0.9600488904759225"
      ]
     },
     "execution_count": 17,
     "metadata": {},
     "output_type": "execute_result"
    }
   ],
   "source": [
    "from sklearn.metrics import roc_auc_score\n",
    "\n",
    "roc_auc_score(y_train_5,y_scores)                  # Area under the curve"
   ]
  },
  {
   "cell_type": "markdown",
   "metadata": {},
   "source": [
    "## Random Forest Classifier"
   ]
  },
  {
   "cell_type": "code",
   "execution_count": 18,
   "metadata": {},
   "outputs": [
    {
     "name": "stdout",
     "output_type": "stream",
     "text": [
      "[[1.  0. ]\n",
      " [1.  0. ]\n",
      " [0.9 0.1]\n",
      " ...\n",
      " [1.  0. ]\n",
      " [1.  0. ]\n",
      " [1.  0. ]]\n"
     ]
    }
   ],
   "source": [
    "from sklearn.ensemble import RandomForestClassifier\n",
    "\n",
    "rand_for = RandomForestClassifier(random_state=42)\n",
    "y_for_proba = cross_val_predict(rand_for,X_train,y_train_5,cv=3,method=\"predict_proba\")  # gives the probability that each instance belongs to a particular class\n",
    "print(y_for_proba)"
   ]
  },
  {
   "cell_type": "markdown",
   "metadata": {},
   "source": [
    "Plot both the curves for the present model."
   ]
  },
  {
   "cell_type": "code",
   "execution_count": 19,
   "metadata": {},
   "outputs": [],
   "source": [
    "y_scores_forest = y_for_proba[:,1]        # Probabilities of positive class can be used as scores\n",
    "prec_forest, rec_forest, thresh_forest = precision_recall_curve(y_train_5,y_scores_forest)\n",
    "fpr_forest, tpr_forest, thresh_forest = roc_curve(y_train_5,y_scores_forest)"
   ]
  },
  {
   "cell_type": "code",
   "execution_count": 20,
   "metadata": {},
   "outputs": [
    {
     "data": {
      "image/png": "[encoded data removed]",
      "text/plain": [
       "<Figure size 432x288 with 1 Axes>"
      ]
     },
     "metadata": {},
     "output_type": "display_data"
    }
   ],
   "source": [
    "plt.plot(rec,prec,label=\"SGD Classifier\")\n",
    "plt.plot(rec_forest,prec_forest,label=\"Random Forest Classifier\")\n",
    "plt.legend()\n",
    "plt.xlabel(\"Recall\")\n",
    "plt.ylabel(\"Precision\")\n",
    "plt.show()                                               # PR curve"
   ]
  },
  {
   "cell_type": "code",
   "execution_count": 21,
   "metadata": {},
   "outputs": [
    {
     "data": {
      "image/png": "[encoded data removed]",
      "text/plain": [
       "<Figure size 432x288 with 1 Axes>"
      ]
     },
     "metadata": {},
     "output_type": "display_data"
    }
   ],
   "source": [
    "plt.plot(fpr,tpr,label=\"SGD Classifier\")\n",
    "plt.plot(fpr_forest,tpr_forest,label=\"Random Forest Classifier\")\n",
    "plt.plot([0,1],[0,1],label=\"Purely Random Classifier\")\n",
    "plt.legend()\n",
    "plt.xlabel(\"False positive rate\")\n",
    "plt.ylabel(\"True positive rate\")\n",
    "plt.show()                                        # ROC curve"
   ]
  },
  {
   "cell_type": "code",
   "execution_count": 22,
   "metadata": {},
   "outputs": [
    {
     "name": "stdout",
     "output_type": "stream",
     "text": [
      "0.9917884346358496\n"
     ]
    }
   ],
   "source": [
    "print(roc_auc_score(y_train_5,y_scores_forest))      # ROC AUC"
   ]
  },
  {
   "cell_type": "code",
   "execution_count": 23,
   "metadata": {},
   "outputs": [
    {
     "name": "stdout",
     "output_type": "stream",
     "text": [
      "0.9858807709547288\n",
      "0.811473897804833\n",
      "0.8902155216027522\n"
     ]
    }
   ],
   "source": [
    "y_train_pred_forest = cross_val_predict(rand_for,X_train,y_train_5,cv=3)\n",
    "\n",
    "print(precision_score(y_train_5,y_train_pred_forest),\n",
    "      recall_score(y_train_5,y_train_pred_forest),f1_score(y_train_5,y_train_pred_forest),sep='\\n')"
   ]
  },
  {
   "cell_type": "markdown",
   "metadata": {},
   "source": [
    "We can observe that the Random Forest Classifier (RFC) is better than the SGD Classifier since<br>\n",
    "1) PR curve has shifted further towards top-right corner meaning that higher precision can be maintained for comparitively higher recall.<br>\n",
    "2) AUC of the ROC curve has increased since it has shifted towards the top-left corner.<br>\n",
    "3) We have a higher precision and recall and thus, a significantly higher F1 score."
   ]
  },
  {
   "cell_type": "markdown",
   "metadata": {},
   "source": [
    "## Multi-class Classification"
   ]
  },
  {
   "cell_type": "code",
   "execution_count": 24,
   "metadata": {},
   "outputs": [
    {
     "data": {
      "text/plain": [
       "SGDClassifier(alpha=0.0001, average=False, class_weight=None, epsilon=0.1,\n",
       "       eta0=0.0, fit_intercept=True, l1_ratio=0.15,\n",
       "       learning_rate='optimal', loss='hinge', max_iter=5, n_iter=None,\n",
       "       n_jobs=1, penalty='l2', power_t=0.5, random_state=42, shuffle=True,\n",
       "       tol=None, verbose=0, warm_start=False)"
      ]
     },
     "execution_count": 24,
     "metadata": {},
     "output_type": "execute_result"
    }
   ],
   "source": [
    "sgd_cls.fit(X_train,y_train)   # Fit the SGD Classifier"
   ]
  },
  {
   "cell_type": "code",
   "execution_count": 25,
   "metadata": {},
   "outputs": [
    {
     "data": {
      "text/plain": [
       "RandomForestClassifier(bootstrap=True, class_weight=None, criterion='gini',\n",
       "            max_depth=None, max_features='auto', max_leaf_nodes=None,\n",
       "            min_impurity_decrease=0.0, min_impurity_split=None,\n",
       "            min_samples_leaf=1, min_samples_split=2,\n",
       "            min_weight_fraction_leaf=0.0, n_estimators=10, n_jobs=1,\n",
       "            oob_score=False, random_state=42, verbose=0, warm_start=False)"
      ]
     },
     "execution_count": 25,
     "metadata": {},
     "output_type": "execute_result"
    }
   ],
   "source": [
    "rand_for.fit(X_train,y_train)    # Fit the RF Classifier"
   ]
  },
  {
   "cell_type": "code",
   "execution_count": 26,
   "metadata": {},
   "outputs": [
    {
     "name": "stdout",
     "output_type": "stream",
     "text": [
      "[0.87872426 0.87124356 0.86117918]\n",
      "[0.940012   0.94294715 0.93894084]\n"
     ]
    }
   ],
   "source": [
    "print(cross_val_score(sgd_cls,X_train,y_train,cv=3,scoring='accuracy')) # CV score of SGD Classifier\n",
    "print(cross_val_score(rand_for,X_train,y_train,cv=3,scoring='accuracy'))# CV score of RF Classifier"
   ]
  },
  {
   "cell_type": "markdown",
   "metadata": {},
   "source": [
    "Let's try to scale the training set values."
   ]
  },
  {
   "cell_type": "code",
   "execution_count": 27,
   "metadata": {},
   "outputs": [
    {
     "name": "stdout",
     "output_type": "stream",
     "text": [
      "[0.91081784 0.91119556 0.90708606]\n",
      "[0.94011198 0.94284714 0.93894084]\n"
     ]
    }
   ],
   "source": [
    "from sklearn.preprocessing import StandardScaler\n",
    "\n",
    "sc = StandardScaler()\n",
    "X_train_scaled = sc.fit_transform(X_train.astype(np.float64))\n",
    "print(cross_val_score(sgd_cls,X_train_scaled,y_train,cv=3,scoring='accuracy')) # New CV score of SGD Classifier\n",
    "print(cross_val_score(rand_for,X_train_scaled,y_train,cv=3,scoring='accuracy'))# New CV score of RF Classifier"
   ]
  },
  {
   "cell_type": "markdown",
   "metadata": {},
   "source": [
    "We can observe that scaling has increased the accuracy of SGD Classifier but there's no change in that of the RF Classifier. This is because RF is insensitive to scaling of features."
   ]
  },
  {
   "cell_type": "markdown",
   "metadata": {},
   "source": [
    "## Hyperparameter Tuning"
   ]
  },
  {
   "cell_type": "markdown",
   "metadata": {},
   "source": [
    "### Grid Search"
   ]
  },
  {
   "cell_type": "code",
   "execution_count": 28,
   "metadata": {},
   "outputs": [
    {
     "data": {
      "text/plain": [
       "GridSearchCV(cv=3, error_score='raise',\n",
       "       estimator=SGDClassifier(alpha=0.0001, average=False, class_weight=None, epsilon=0.1,\n",
       "       eta0=0.0, fit_intercept=True, l1_ratio=0.15,\n",
       "       learning_rate='optimal', loss='hinge', max_iter=None, n_iter=None,\n",
       "       n_jobs=1, penalty='l2', power_t=0.5, random_state=42, shuffle=True,\n",
       "       tol=None, verbose=0, warm_start=False),\n",
       "       fit_params=None, iid=True, n_jobs=1,\n",
       "       param_grid=[{'alpha': [0.0001, 0.0003, 1e-05], 'max_iter': [5, 10, 15]}],\n",
       "       pre_dispatch='2*n_jobs', refit=True, return_train_score=True,\n",
       "       scoring='accuracy', verbose=0)"
      ]
     },
     "execution_count": 28,
     "metadata": {},
     "output_type": "execute_result"
    }
   ],
   "source": [
    "from sklearn.model_selection import GridSearchCV\n",
    "\n",
    "param_grid_SGD = [{'alpha' : [0.0001,0.0003,0.00001],'max_iter' : [5,10,15]}]\n",
    "sgd_cls_gs = SGDClassifier(random_state=42)\n",
    "grid_search_SGD = GridSearchCV(sgd_cls_gs,param_grid_SGD,cv=3,scoring='accuracy',return_train_score=True)\n",
    "grid_search_SGD.fit(X_train_scaled,y_train)               # Grid Search for SGD Classifier"
   ]
  },
  {
   "cell_type": "code",
   "execution_count": 29,
   "metadata": {},
   "outputs": [],
   "source": [
    "sgd_cls_gs = grid_search_SGD.best_estimator_"
   ]
  },
  {
   "cell_type": "code",
   "execution_count": 30,
   "metadata": {},
   "outputs": [
    {
     "data": {
      "text/plain": [
       "GridSearchCV(cv=3, error_score='raise',\n",
       "       estimator=RandomForestClassifier(bootstrap=True, class_weight=None, criterion='gini',\n",
       "            max_depth=None, max_features='auto', max_leaf_nodes=None,\n",
       "            min_impurity_decrease=0.0, min_impurity_split=None,\n",
       "            min_samples_leaf=1, min_samples_split=2,\n",
       "            min_weight_fraction_leaf=0.0, n_estimators=10, n_jobs=1,\n",
       "            oob_score=False, random_state=42, verbose=0, warm_start=False),\n",
       "       fit_params=None, iid=True, n_jobs=1,\n",
       "       param_grid=[{'n_estimators': [3, 10, 30], 'max_features': ['auto', 'log2']}],\n",
       "       pre_dispatch='2*n_jobs', refit=True, return_train_score=True,\n",
       "       scoring='accuracy', verbose=0)"
      ]
     },
     "execution_count": 30,
     "metadata": {},
     "output_type": "execute_result"
    }
   ],
   "source": [
    "param_grid_RF = [{'n_estimators' : [3,10,30],'max_features' : ['auto','log2']}]\n",
    "rand_for_gs = RandomForestClassifier(random_state=42)\n",
    "grid_search_RF = GridSearchCV(rand_for_gs,param_grid_RF,cv=3,scoring='accuracy',return_train_score=True)\n",
    "grid_search_RF.fit(X_train,y_train)               # Grid Search for RF Classifier"
   ]
  },
  {
   "cell_type": "code",
   "execution_count": 31,
   "metadata": {},
   "outputs": [],
   "source": [
    "rand_for_gs = grid_search_RF.best_estimator_"
   ]
  },
  {
   "cell_type": "code",
   "execution_count": 32,
   "metadata": {},
   "outputs": [
    {
     "name": "stdout",
     "output_type": "stream",
     "text": [
      "[0.91346731 0.9120956  0.90858629]\n",
      "[0.96075785 0.96099805 0.95659349]\n"
     ]
    }
   ],
   "source": [
    "print(cross_val_score(sgd_cls_gs,X_train_scaled,y_train,cv=3,scoring='accuracy')) # New CV score of SGD Classifier\n",
    "print(cross_val_score(rand_for_gs,X_train_scaled,y_train,cv=3,scoring='accuracy'))# New CV score of RF Classifier"
   ]
  },
  {
   "cell_type": "markdown",
   "metadata": {},
   "source": [
    "We can observe that the performance of both the models has slightly increased."
   ]
  },
  {
   "cell_type": "markdown",
   "metadata": {},
   "source": [
    "## Error Analysis "
   ]
  },
  {
   "cell_type": "code",
   "execution_count": 33,
   "metadata": {},
   "outputs": [
    {
     "data": {
      "text/plain": [
       "array([[5721,    1,   18,    7,    8,   31,   44,    8,   83,    2],\n",
       "       [   2, 6497,   40,   25,    6,   44,    7,    9,   95,   17],\n",
       "       [  42,   46, 5336,  100,   68,   19,   67,   48,  209,   23],\n",
       "       [  45,   32,  138, 5350,    6,  195,   30,   44,  202,   89],\n",
       "       [  14,   23,   46,   13, 5361,   10,   46,   28,  110,  191],\n",
       "       [  46,   35,   39,  178,   57, 4558,  103,   22,  285,   98],\n",
       "       [  35,   18,   63,    3,   46,   87, 5603,    5,   57,    1],\n",
       "       [  20,   16,   59,   32,   56,    8,    4, 5736,   40,  294],\n",
       "       [  42,  121,   51,  120,    5,  142,   42,   16, 5211,  101],\n",
       "       [  20,   26,   22,   78,  134,   40,    2,  197,  120, 5310]],\n",
       "      dtype=int64)"
      ]
     },
     "execution_count": 33,
     "metadata": {},
     "output_type": "execute_result"
    }
   ],
   "source": [
    "y_train_pred_sgd = cross_val_predict(sgd_cls_gs,X_train_scaled,y_train,cv=3)\n",
    "conf_mx_sgd = confusion_matrix(y_train,y_train_pred_sgd)        # Confusion Matrix for improved SGD classifier\n",
    "conf_mx_sgd"
   ]
  },
  {
   "cell_type": "code",
   "execution_count": 34,
   "metadata": {},
   "outputs": [
    {
     "data": {
      "image/png": "[encoded data removed]",
      "text/plain": [
       "<Figure size 288x288 with 1 Axes>"
      ]
     },
     "metadata": {},
     "output_type": "display_data"
    }
   ],
   "source": [
    "plt.matshow(conf_mx_sgd,cmap=plt.cm.gray)\n",
    "plt.show()"
   ]
  },
  {
   "cell_type": "markdown",
   "metadata": {},
   "source": [
    "This classifier seems pretty good as the white squares (higher values) are located along the diagonal.<br>\n",
    "To focus on errors, we first need to divide the entries in conf. matrix by total no. of instances of that class so as to depict error rates instead of absolute erraneous instances.<br>\n",
    "After this, we replace the diagonal entries with 0 so as to represent errors. (0 is the lowest value and will be given the color black)"
   ]
  },
  {
   "cell_type": "code",
   "execution_count": 35,
   "metadata": {},
   "outputs": [
    {
     "data": {
      "text/plain": [
       "array([[0.        , 0.00016883, 0.003039  , 0.00118183, 0.00135067,\n",
       "        0.00523383, 0.00742867, 0.00135067, 0.01401317, 0.00033767],\n",
       "       [0.00029665, 0.        , 0.00593296, 0.0037081 , 0.00088994,\n",
       "        0.00652625, 0.00103827, 0.00133492, 0.01409077, 0.00252151],\n",
       "       [0.00704935, 0.00772071, 0.        , 0.01678416, 0.01141323,\n",
       "        0.00318899, 0.01124538, 0.00805639, 0.03507889, 0.00386036],\n",
       "       [0.00733975, 0.00521938, 0.02250856, 0.        , 0.00097863,\n",
       "        0.03180558, 0.00489317, 0.00717664, 0.03294732, 0.01451639],\n",
       "       [0.00239644, 0.00393701, 0.00787402, 0.00222527, 0.        ,\n",
       "        0.00171174, 0.00787402, 0.00479288, 0.01882917, 0.03269428],\n",
       "       [0.00848552, 0.00645637, 0.00719424, 0.03283527, 0.01051467,\n",
       "        0.        , 0.01900018, 0.00405829, 0.05257333, 0.01807785],\n",
       "       [0.00591416, 0.00304157, 0.01064549, 0.00050693, 0.0077729 ,\n",
       "        0.01470091, 0.        , 0.00084488, 0.00963163, 0.00016898],\n",
       "       [0.00319234, 0.00255387, 0.0094174 , 0.00510774, 0.00893855,\n",
       "        0.00127694, 0.00063847, 0.        , 0.00638468, 0.04692737],\n",
       "       [0.00717826, 0.02068023, 0.00871646, 0.02050931, 0.00085455,\n",
       "        0.02426936, 0.00717826, 0.00273458, 0.        , 0.01726201],\n",
       "       [0.00336191, 0.00437048, 0.0036981 , 0.01311145, 0.02252479,\n",
       "        0.00672382, 0.00033619, 0.03311481, 0.02017146, 0.        ]])"
      ]
     },
     "execution_count": 35,
     "metadata": {},
     "output_type": "execute_result"
    }
   ],
   "source": [
    "row_sums_sgd = conf_mx_sgd.sum(axis=1,keepdims=True)\n",
    "norm_conf_mx_sgd = conf_mx_sgd / row_sums_sgd   # Normalized Confusion Matrix\n",
    "np.fill_diagonal(norm_conf_mx_sgd,0)            # Replace diagonal elements with 0\n",
    "norm_conf_mx_sgd"
   ]
  },
  {
   "cell_type": "code",
   "execution_count": 36,
   "metadata": {},
   "outputs": [
    {
     "data": {
      "image/png": "[encoded data removed]",
      "text/plain": [
       "<Figure size 288x288 with 1 Axes>"
      ]
     },
     "metadata": {},
     "output_type": "display_data"
    }
   ],
   "source": [
    "plt.matshow(norm_conf_mx_sgd,cmap=plt.cm.gray)\n",
    "plt.show()"
   ]
  },
  {
   "cell_type": "markdown",
   "metadata": {},
   "source": [
    "Higher the brightness, higher is the error rate.<br>\n",
    "We can see that the classifier confuses between 3 and 5. Also, many 5's are misclassified as 8's.<br>\n",
    "Let's perform a similar analysis for RF Classifier."
   ]
  },
  {
   "cell_type": "code",
   "execution_count": 37,
   "metadata": {},
   "outputs": [
    {
     "data": {
      "text/plain": [
       "array([[5841,    2,   11,    6,    4,    7,   18,    0,   29,    5],\n",
       "       [   0, 6633,   39,   12,   14,    8,    5,   12,   12,    7],\n",
       "       [  32,   15, 5726,   33,   28,    6,   25,   45,   35,   13],\n",
       "       [  11,    9,   94, 5771,    5,   87,    8,   47,   67,   32],\n",
       "       [   9,   11,   14,    4, 5627,    2,   29,   12,   19,  115],\n",
       "       [  32,   14,   12,   85,   13, 5141,   48,    4,   48,   24],\n",
       "       [  29,   12,   11,    2,   14,   49, 5781,    1,   18,    1],\n",
       "       [   9,   27,   63,   12,   43,    2,    1, 6014,   14,   80],\n",
       "       [  23,   33,   51,   72,   34,   63,   28,    4, 5478,   65],\n",
       "       [  26,   13,   22,   86,  109,   29,    5,   64,   40, 5555]],\n",
       "      dtype=int64)"
      ]
     },
     "execution_count": 37,
     "metadata": {},
     "output_type": "execute_result"
    }
   ],
   "source": [
    "y_train_pred_rf = cross_val_predict(rand_for_gs,X_train_scaled,y_train,cv=3)\n",
    "conf_mx_rf = confusion_matrix(y_train,y_train_pred_rf)        # Confusion Matrix for improved RF classifier\n",
    "conf_mx_rf"
   ]
  },
  {
   "cell_type": "code",
   "execution_count": 38,
   "metadata": {},
   "outputs": [
    {
     "data": {
      "image/png": "[encoded data removed]",
      "text/plain": [
       "<Figure size 288x288 with 1 Axes>"
      ]
     },
     "metadata": {},
     "output_type": "display_data"
    }
   ],
   "source": [
    "plt.matshow(conf_mx_rf,cmap=plt.cm.gray)\n",
    "plt.show()"
   ]
  },
  {
   "cell_type": "code",
   "execution_count": 39,
   "metadata": {},
   "outputs": [
    {
     "data": {
      "text/plain": [
       "array([[0.        , 0.00033767, 0.00185717, 0.001013  , 0.00067533,\n",
       "        0.00118183, 0.003039  , 0.        , 0.00489617, 0.00084417],\n",
       "       [0.        , 0.        , 0.00578463, 0.00177989, 0.00207654,\n",
       "        0.00118659, 0.00074162, 0.00177989, 0.00177989, 0.00103827],\n",
       "       [0.00537093, 0.00251762, 0.        , 0.00553877, 0.00469956,\n",
       "        0.00100705, 0.00419604, 0.00755287, 0.00587445, 0.00218194],\n",
       "       [0.00179416, 0.00146795, 0.01533192, 0.        , 0.00081553,\n",
       "        0.01419018, 0.00130484, 0.00766596, 0.01092807, 0.00521938],\n",
       "       [0.00154057, 0.00188292, 0.00239644, 0.0006847 , 0.        ,\n",
       "        0.00034235, 0.00496405, 0.00205409, 0.00325231, 0.01968504],\n",
       "       [0.00590297, 0.00258255, 0.00221361, 0.01567976, 0.00239808,\n",
       "        0.        , 0.00885445, 0.00073787, 0.00885445, 0.00442723],\n",
       "       [0.0049003 , 0.00202771, 0.00185874, 0.00033795, 0.00236566,\n",
       "        0.00827982, 0.        , 0.00016898, 0.00304157, 0.00016898],\n",
       "       [0.00143655, 0.00430966, 0.01005587, 0.0019154 , 0.00686353,\n",
       "        0.00031923, 0.00015962, 0.        , 0.00223464, 0.01276935],\n",
       "       [0.00393095, 0.00564006, 0.00871646, 0.01230559, 0.00581097,\n",
       "        0.01076739, 0.00478551, 0.00068364, 0.        , 0.01110921],\n",
       "       [0.00437048, 0.00218524, 0.0036981 , 0.01445621, 0.01832241,\n",
       "        0.00487477, 0.00084048, 0.01075811, 0.00672382, 0.        ]])"
      ]
     },
     "execution_count": 39,
     "metadata": {},
     "output_type": "execute_result"
    }
   ],
   "source": [
    "row_sums_rf = conf_mx_rf.sum(axis=1,keepdims=True)\n",
    "norm_conf_mx_rf = conf_mx_rf / row_sums_rf   # Normalized Confusion Matrix\n",
    "np.fill_diagonal(norm_conf_mx_rf,0)            # Replace diagonal elements with 0\n",
    "norm_conf_mx_rf"
   ]
  },
  {
   "cell_type": "code",
   "execution_count": 40,
   "metadata": {},
   "outputs": [
    {
     "data": {
      "image/png": "[encoded data removed]",
      "text/plain": [
       "<Figure size 288x288 with 1 Axes>"
      ]
     },
     "metadata": {},
     "output_type": "display_data"
    }
   ],
   "source": [
    "plt.matshow(norm_conf_mx_rf,cmap=plt.cm.gray)\n",
    "plt.show()"
   ]
  },
  {
   "cell_type": "markdown",
   "metadata": {},
   "source": [
    "We can see that the RF Classifier struggles with correctly predicting 8's and 9's. It also performs poorly in distinguishing between 4's and 9's."
   ]
  },
  {
   "cell_type": "markdown",
   "metadata": {},
   "source": [
    "## Data Augmentation"
   ]
  },
  {
   "cell_type": "markdown",
   "metadata": {},
   "source": [
    "For each image in the training set, shift it by 1 pixel in all 4 directions and append these 4 new images into the training set."
   ]
  },
  {
   "cell_type": "code",
   "execution_count": 41,
   "metadata": {},
   "outputs": [],
   "source": [
    "def image_shift(img, s_x, s_y):\n",
    "    img = img.reshape((28, 28))\n",
    "    shifted_img = shift(img, [s_y, s_x], cval=0, mode=\"constant\")\n",
    "    return shifted_img.reshape([-1])"
   ]
  },
  {
   "cell_type": "code",
   "execution_count": 42,
   "metadata": {},
   "outputs": [],
   "source": [
    "from scipy.ndimage.interpolation import shift\n",
    "\n",
    "X_train_aug = [x for x in X_train]\n",
    "y_train_aug = [y for y in y_train]\n",
    "\n",
    "for img,label in zip(X_train,y_train):\n",
    "    X_train_aug.append(image_shift(img,1,0))          # Shift  right\n",
    "    y_train_aug.append(label)\n",
    "    X_train_aug.append(image_shift(img,0,1))          # Shift down\n",
    "    y_train_aug.append(label)\n",
    "    X_train_aug.append(image_shift(img,-1,0))         # Shift left\n",
    "    y_train_aug.append(label)\n",
    "    X_train_aug.append(image_shift(img,0,-1))         # Shift up\n",
    "    y_train_aug.append(label)\n",
    "\n",
    "X_train_aug = np.array(X_train_aug)\n",
    "y_train_aug = np.array(y_train_aug)"
   ]
  },
  {
   "cell_type": "code",
   "execution_count": 43,
   "metadata": {},
   "outputs": [
    {
     "data": {
      "text/plain": [
       "(300000, 784)"
      ]
     },
     "execution_count": 43,
     "metadata": {},
     "output_type": "execute_result"
    }
   ],
   "source": [
    "X_train_aug.shape"
   ]
  },
  {
   "cell_type": "code",
   "execution_count": 44,
   "metadata": {},
   "outputs": [
    {
     "name": "stdout",
     "output_type": "stream",
     "text": [
      "[  6039  35032 202642 ... 229977 175341 159392]\n"
     ]
    }
   ],
   "source": [
    "shuffle_index = np.random.permutation(300000)\n",
    "X_train_aug, y_train_aug = X_train_aug[shuffle_index], y_train_aug[shuffle_index]\n",
    "print(shuffle_index)                        # Shuffle the set"
   ]
  },
  {
   "cell_type": "code",
   "execution_count": 45,
   "metadata": {},
   "outputs": [],
   "source": [
    "X_train_aug_scaled = sc.fit_transform(X_train_aug.astype(np.float64))  # Scale the data for SGD Classifier"
   ]
  },
  {
   "cell_type": "code",
   "execution_count": 46,
   "metadata": {},
   "outputs": [
    {
     "data": {
      "text/plain": [
       "SGDClassifier(alpha=0.0001, average=False, class_weight=None, epsilon=0.1,\n",
       "       eta0=0.0, fit_intercept=True, l1_ratio=0.15,\n",
       "       learning_rate='optimal', loss='hinge', max_iter=5, n_iter=None,\n",
       "       n_jobs=1, penalty='l2', power_t=0.5, random_state=42, shuffle=True,\n",
       "       tol=None, verbose=0, warm_start=False)"
      ]
     },
     "execution_count": 46,
     "metadata": {},
     "output_type": "execute_result"
    }
   ],
   "source": [
    "sgd_cls_aug = SGDClassifier(random_state=42,max_iter=5)\n",
    "sgd_cls_aug.fit(X_train_aug_scaled,y_train_aug)"
   ]
  },
  {
   "cell_type": "code",
   "execution_count": 47,
   "metadata": {},
   "outputs": [
    {
     "data": {
      "text/plain": [
       "RandomForestClassifier(bootstrap=True, class_weight=None, criterion='gini',\n",
       "            max_depth=None, max_features='auto', max_leaf_nodes=None,\n",
       "            min_impurity_decrease=0.0, min_impurity_split=None,\n",
       "            min_samples_leaf=1, min_samples_split=2,\n",
       "            min_weight_fraction_leaf=0.0, n_estimators=10, n_jobs=1,\n",
       "            oob_score=False, random_state=42, verbose=0, warm_start=False)"
      ]
     },
     "execution_count": 47,
     "metadata": {},
     "output_type": "execute_result"
    }
   ],
   "source": [
    "rand_for_aug = RandomForestClassifier(random_state=42)\n",
    "rand_for_aug.fit(X_train_aug_scaled,y_train_aug)"
   ]
  },
  {
   "cell_type": "code",
   "execution_count": 48,
   "metadata": {},
   "outputs": [
    {
     "name": "stdout",
     "output_type": "stream",
     "text": [
      "[0.87956361 0.88249118 0.88107524]\n",
      "[0.9567313  0.95502045 0.95449818]\n"
     ]
    }
   ],
   "source": [
    "print(cross_val_score(sgd_cls_aug,X_train_aug_scaled,y_train_aug,cv=3,scoring='accuracy')) # New CV score of SGD Classifier\n",
    "print(cross_val_score(rand_for_aug,X_train_aug_scaled,y_train_aug,cv=3,scoring='accuracy'))# New CV score of RF Classifier"
   ]
  },
  {
   "cell_type": "markdown",
   "metadata": {},
   "source": [
    "We see that data augmentation hasn't increased the performance of both the classifiers.<br> On the contrary, it has decreased the accuracy.<br>\n",
    "So, we stick to the RF Classifier obtained after grid search."
   ]
  },
  {
   "cell_type": "markdown",
   "metadata": {},
   "source": [
    "## Evaluation on the test set"
   ]
  },
  {
   "cell_type": "code",
   "execution_count": 49,
   "metadata": {},
   "outputs": [
    {
     "data": {
      "text/plain": [
       "0.9637"
      ]
     },
     "execution_count": 49,
     "metadata": {},
     "output_type": "execute_result"
    }
   ],
   "source": [
    "from sklearn.metrics import accuracy_score\n",
    "\n",
    "y_pred_test = rand_for_gs.predict(X_test)\n",
    "accuracy_score(y_test,y_pred_test)"
   ]
  },
  {
   "cell_type": "code",
   "execution_count": 50,
   "metadata": {},
   "outputs": [
    {
     "data": {
      "text/plain": [
       "['mymodel.pkl']"
      ]
     },
     "execution_count": 50,
     "metadata": {},
     "output_type": "execute_result"
    }
   ],
   "source": [
    "from sklearn.externals import joblib\n",
    "\n",
    "joblib.dump(rand_for_gs,'mymodel.pkl')"
   ]
  },
  {
   "cell_type": "markdown",
   "metadata": {},
   "source": [
    "The RF model attained an accuracy of 96% in the test set."
   ]
  }
 ],
 "metadata": {
  "kernelspec": {
   "display_name": "Python 3",
   "language": "python",
   "name": "python3"
  },
  "language_info": {
   "codemirror_mode": {
    "name": "ipython",
    "version": 3
   },
   "file_extension": ".py",
   "mimetype": "text/x-python",
   "name": "python",
   "nbconvert_exporter": "python",
   "pygments_lexer": "ipython3",
   "version": "3.6.5"
  }
 },
 "nbformat": 4,
 "nbformat_minor": 2
}
